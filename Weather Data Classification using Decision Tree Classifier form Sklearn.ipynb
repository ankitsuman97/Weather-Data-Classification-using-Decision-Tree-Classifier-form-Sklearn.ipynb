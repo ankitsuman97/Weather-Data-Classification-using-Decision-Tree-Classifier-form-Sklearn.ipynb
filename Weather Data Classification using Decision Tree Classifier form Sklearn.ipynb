{
 "cells": [
  {
   "cell_type": "markdown",
   "metadata": {},
   "source": [
    "# Weather Data Classification using scikit-learn"
   ]
  },
  {
   "cell_type": "markdown",
   "metadata": {},
   "source": [
    "<p style=\"font-family: Arial; font-size:1.75em;color:blue; font-style:bold\"><br>\n",
    "\n",
    "Importing the Necessary Libraries<br></p>"
   ]
  },
  {
   "cell_type": "markdown",
   "metadata": {},
   "source": [
    "First we import the necessary libraries of the python for demostration of the Decision Tree Classifier"
   ]
  },
  {
   "cell_type": "code",
   "execution_count": 1,
   "metadata": {},
   "outputs": [],
   "source": [
    "import pandas as pd\n",
    "from sklearn.metrics import accuracy_score\n",
    "from sklearn.model_selection import train_test_split\n",
    "from sklearn.tree import DecisionTreeClassifier"
   ]
  },
  {
   "cell_type": "markdown",
   "metadata": {},
   "source": [
    "Read the data of the weather from the csv file using read_csv function of pandas dataframe "
   ]
  },
  {
   "cell_type": "code",
   "execution_count": 2,
   "metadata": {},
   "outputs": [],
   "source": [
    "data = pd.read_csv('./daily_weather.csv')"
   ]
  },
  {
   "cell_type": "markdown",
   "metadata": {},
   "source": [
    "<p style=\"font-family: Arial; font-size:1.75em;color:blue; font-style:bold\">Daily Weather Data Description</p>\n",
    "<br>\n",
    "The file **daily_weather.csv** is a comma-separated file that contains weather data.  This data comes from a weather station located in San Diego, California.  The weather station is equipped with sensors that capture weather-related measurements such as air temperature, air pressure, and relative humidity.  Data was collected for a period of three years, from September 2011 to September 2014, to ensure that sufficient data for different seasons and weather conditions is captured.<br><br>\n",
    "Let's now check all the columns in the data."
   ]
  },
  {
   "cell_type": "markdown",
   "metadata": {},
   "source": [
    "Know about various columns in the dataset."
   ]
  },
  {
   "cell_type": "code",
   "execution_count": 3,
   "metadata": {},
   "outputs": [
    {
     "data": {
      "text/plain": [
       "Index(['number', 'air_pressure_9am', 'air_temp_9am', 'avg_wind_direction_9am',\n",
       "       'avg_wind_speed_9am', 'max_wind_direction_9am', 'max_wind_speed_9am',\n",
       "       'rain_accumulation_9am', 'rain_duration_9am', 'relative_humidity_9am',\n",
       "       'relative_humidity_3pm'],\n",
       "      dtype='object')"
      ]
     },
     "execution_count": 3,
     "metadata": {},
     "output_type": "execute_result"
    }
   ],
   "source": [
    "data.columns"
   ]
  },
  {
   "cell_type": "code",
   "execution_count": 4,
   "metadata": {},
   "outputs": [
    {
     "data": {
      "text/html": [
       "<div>\n",
       "<style scoped>\n",
       "    .dataframe tbody tr th:only-of-type {\n",
       "        vertical-align: middle;\n",
       "    }\n",
       "\n",
       "    .dataframe tbody tr th {\n",
       "        vertical-align: top;\n",
       "    }\n",
       "\n",
       "    .dataframe thead th {\n",
       "        text-align: right;\n",
       "    }\n",
       "</style>\n",
       "<table border=\"1\" class=\"dataframe\">\n",
       "  <thead>\n",
       "    <tr style=\"text-align: right;\">\n",
       "      <th></th>\n",
       "      <th>number</th>\n",
       "      <th>air_pressure_9am</th>\n",
       "      <th>air_temp_9am</th>\n",
       "      <th>avg_wind_direction_9am</th>\n",
       "      <th>avg_wind_speed_9am</th>\n",
       "      <th>max_wind_direction_9am</th>\n",
       "      <th>max_wind_speed_9am</th>\n",
       "      <th>rain_accumulation_9am</th>\n",
       "      <th>rain_duration_9am</th>\n",
       "      <th>relative_humidity_9am</th>\n",
       "      <th>relative_humidity_3pm</th>\n",
       "    </tr>\n",
       "  </thead>\n",
       "  <tbody>\n",
       "    <tr>\n",
       "      <th>0</th>\n",
       "      <td>0</td>\n",
       "      <td>918.060000</td>\n",
       "      <td>74.822000</td>\n",
       "      <td>271.100000</td>\n",
       "      <td>2.080354</td>\n",
       "      <td>295.400000</td>\n",
       "      <td>2.863283</td>\n",
       "      <td>0.0</td>\n",
       "      <td>0.0</td>\n",
       "      <td>42.420000</td>\n",
       "      <td>36.160000</td>\n",
       "    </tr>\n",
       "    <tr>\n",
       "      <th>1</th>\n",
       "      <td>1</td>\n",
       "      <td>917.347688</td>\n",
       "      <td>71.403843</td>\n",
       "      <td>101.935179</td>\n",
       "      <td>2.443009</td>\n",
       "      <td>140.471548</td>\n",
       "      <td>3.533324</td>\n",
       "      <td>0.0</td>\n",
       "      <td>0.0</td>\n",
       "      <td>24.328697</td>\n",
       "      <td>19.426597</td>\n",
       "    </tr>\n",
       "    <tr>\n",
       "      <th>2</th>\n",
       "      <td>2</td>\n",
       "      <td>923.040000</td>\n",
       "      <td>60.638000</td>\n",
       "      <td>51.000000</td>\n",
       "      <td>17.067852</td>\n",
       "      <td>63.700000</td>\n",
       "      <td>22.100967</td>\n",
       "      <td>0.0</td>\n",
       "      <td>20.0</td>\n",
       "      <td>8.900000</td>\n",
       "      <td>14.460000</td>\n",
       "    </tr>\n",
       "    <tr>\n",
       "      <th>3</th>\n",
       "      <td>3</td>\n",
       "      <td>920.502751</td>\n",
       "      <td>70.138895</td>\n",
       "      <td>198.832133</td>\n",
       "      <td>4.337363</td>\n",
       "      <td>211.203341</td>\n",
       "      <td>5.190045</td>\n",
       "      <td>0.0</td>\n",
       "      <td>0.0</td>\n",
       "      <td>12.189102</td>\n",
       "      <td>12.742547</td>\n",
       "    </tr>\n",
       "    <tr>\n",
       "      <th>4</th>\n",
       "      <td>4</td>\n",
       "      <td>921.160000</td>\n",
       "      <td>44.294000</td>\n",
       "      <td>277.800000</td>\n",
       "      <td>1.856660</td>\n",
       "      <td>136.500000</td>\n",
       "      <td>2.863283</td>\n",
       "      <td>8.9</td>\n",
       "      <td>14730.0</td>\n",
       "      <td>92.410000</td>\n",
       "      <td>76.740000</td>\n",
       "    </tr>\n",
       "  </tbody>\n",
       "</table>\n",
       "</div>"
      ],
      "text/plain": [
       "   number  air_pressure_9am  air_temp_9am  avg_wind_direction_9am  \\\n",
       "0       0        918.060000     74.822000              271.100000   \n",
       "1       1        917.347688     71.403843              101.935179   \n",
       "2       2        923.040000     60.638000               51.000000   \n",
       "3       3        920.502751     70.138895              198.832133   \n",
       "4       4        921.160000     44.294000              277.800000   \n",
       "\n",
       "   avg_wind_speed_9am  max_wind_direction_9am  max_wind_speed_9am  \\\n",
       "0            2.080354              295.400000            2.863283   \n",
       "1            2.443009              140.471548            3.533324   \n",
       "2           17.067852               63.700000           22.100967   \n",
       "3            4.337363              211.203341            5.190045   \n",
       "4            1.856660              136.500000            2.863283   \n",
       "\n",
       "   rain_accumulation_9am  rain_duration_9am  relative_humidity_9am  \\\n",
       "0                    0.0                0.0              42.420000   \n",
       "1                    0.0                0.0              24.328697   \n",
       "2                    0.0               20.0               8.900000   \n",
       "3                    0.0                0.0              12.189102   \n",
       "4                    8.9            14730.0              92.410000   \n",
       "\n",
       "   relative_humidity_3pm  \n",
       "0              36.160000  \n",
       "1              19.426597  \n",
       "2              14.460000  \n",
       "3              12.742547  \n",
       "4              76.740000  "
      ]
     },
     "execution_count": 4,
     "metadata": {},
     "output_type": "execute_result"
    }
   ],
   "source": [
    "data.head()"
   ]
  },
  {
   "cell_type": "markdown",
   "metadata": {},
   "source": [
    "Checking is there exists null values in the dataset or not"
   ]
  },
  {
   "cell_type": "code",
   "execution_count": 5,
   "metadata": {},
   "outputs": [
    {
     "data": {
      "text/html": [
       "<div>\n",
       "<style scoped>\n",
       "    .dataframe tbody tr th:only-of-type {\n",
       "        vertical-align: middle;\n",
       "    }\n",
       "\n",
       "    .dataframe tbody tr th {\n",
       "        vertical-align: top;\n",
       "    }\n",
       "\n",
       "    .dataframe thead th {\n",
       "        text-align: right;\n",
       "    }\n",
       "</style>\n",
       "<table border=\"1\" class=\"dataframe\">\n",
       "  <thead>\n",
       "    <tr style=\"text-align: right;\">\n",
       "      <th></th>\n",
       "      <th>number</th>\n",
       "      <th>air_pressure_9am</th>\n",
       "      <th>air_temp_9am</th>\n",
       "      <th>avg_wind_direction_9am</th>\n",
       "      <th>avg_wind_speed_9am</th>\n",
       "      <th>max_wind_direction_9am</th>\n",
       "      <th>max_wind_speed_9am</th>\n",
       "      <th>rain_accumulation_9am</th>\n",
       "      <th>rain_duration_9am</th>\n",
       "      <th>relative_humidity_9am</th>\n",
       "      <th>relative_humidity_3pm</th>\n",
       "    </tr>\n",
       "  </thead>\n",
       "  <tbody>\n",
       "    <tr>\n",
       "      <th>16</th>\n",
       "      <td>16</td>\n",
       "      <td>917.890000</td>\n",
       "      <td>NaN</td>\n",
       "      <td>169.200000</td>\n",
       "      <td>2.192201</td>\n",
       "      <td>196.800000</td>\n",
       "      <td>2.930391</td>\n",
       "      <td>0.0</td>\n",
       "      <td>0.0</td>\n",
       "      <td>48.990000</td>\n",
       "      <td>51.190000</td>\n",
       "    </tr>\n",
       "    <tr>\n",
       "      <th>111</th>\n",
       "      <td>111</td>\n",
       "      <td>915.290000</td>\n",
       "      <td>58.820000</td>\n",
       "      <td>182.600000</td>\n",
       "      <td>15.613841</td>\n",
       "      <td>189.000000</td>\n",
       "      <td>NaN</td>\n",
       "      <td>0.0</td>\n",
       "      <td>0.0</td>\n",
       "      <td>21.500000</td>\n",
       "      <td>29.690000</td>\n",
       "    </tr>\n",
       "    <tr>\n",
       "      <th>177</th>\n",
       "      <td>177</td>\n",
       "      <td>915.900000</td>\n",
       "      <td>NaN</td>\n",
       "      <td>183.300000</td>\n",
       "      <td>4.719943</td>\n",
       "      <td>189.900000</td>\n",
       "      <td>5.346287</td>\n",
       "      <td>0.0</td>\n",
       "      <td>0.0</td>\n",
       "      <td>29.260000</td>\n",
       "      <td>46.500000</td>\n",
       "    </tr>\n",
       "    <tr>\n",
       "      <th>262</th>\n",
       "      <td>262</td>\n",
       "      <td>923.596607</td>\n",
       "      <td>58.380598</td>\n",
       "      <td>47.737753</td>\n",
       "      <td>10.636273</td>\n",
       "      <td>67.145843</td>\n",
       "      <td>13.671423</td>\n",
       "      <td>0.0</td>\n",
       "      <td>NaN</td>\n",
       "      <td>17.990876</td>\n",
       "      <td>16.461685</td>\n",
       "    </tr>\n",
       "    <tr>\n",
       "      <th>277</th>\n",
       "      <td>277</td>\n",
       "      <td>920.480000</td>\n",
       "      <td>62.600000</td>\n",
       "      <td>194.400000</td>\n",
       "      <td>2.751436</td>\n",
       "      <td>NaN</td>\n",
       "      <td>3.869906</td>\n",
       "      <td>0.0</td>\n",
       "      <td>0.0</td>\n",
       "      <td>52.580000</td>\n",
       "      <td>54.030000</td>\n",
       "    </tr>\n",
       "  </tbody>\n",
       "</table>\n",
       "</div>"
      ],
      "text/plain": [
       "     number  air_pressure_9am  air_temp_9am  avg_wind_direction_9am  \\\n",
       "16       16        917.890000           NaN              169.200000   \n",
       "111     111        915.290000     58.820000              182.600000   \n",
       "177     177        915.900000           NaN              183.300000   \n",
       "262     262        923.596607     58.380598               47.737753   \n",
       "277     277        920.480000     62.600000              194.400000   \n",
       "\n",
       "     avg_wind_speed_9am  max_wind_direction_9am  max_wind_speed_9am  \\\n",
       "16             2.192201              196.800000            2.930391   \n",
       "111           15.613841              189.000000                 NaN   \n",
       "177            4.719943              189.900000            5.346287   \n",
       "262           10.636273               67.145843           13.671423   \n",
       "277            2.751436                     NaN            3.869906   \n",
       "\n",
       "     rain_accumulation_9am  rain_duration_9am  relative_humidity_9am  \\\n",
       "16                     0.0                0.0              48.990000   \n",
       "111                    0.0                0.0              21.500000   \n",
       "177                    0.0                0.0              29.260000   \n",
       "262                    0.0                NaN              17.990876   \n",
       "277                    0.0                0.0              52.580000   \n",
       "\n",
       "     relative_humidity_3pm  \n",
       "16               51.190000  \n",
       "111              29.690000  \n",
       "177              46.500000  \n",
       "262              16.461685  \n",
       "277              54.030000  "
      ]
     },
     "execution_count": 5,
     "metadata": {},
     "output_type": "execute_result"
    }
   ],
   "source": [
    "data[data.isnull().any(axis=1)].head()"
   ]
  },
  {
   "cell_type": "markdown",
   "metadata": {},
   "source": [
    "<p style=\"font-family: Arial; font-size:1.75em;color:blue; font-style:bold\"><br>\n",
    "\n",
    "Data Cleaning Steps<br><br></p>\n",
    "\n",
    "We will not need to number for each row so we can clean it."
   ]
  },
  {
   "cell_type": "markdown",
   "metadata": {},
   "source": [
    "Data Cleaning process --> As number column contains unique values which can not help us making any decision"
   ]
  },
  {
   "cell_type": "code",
   "execution_count": 6,
   "metadata": {},
   "outputs": [
    {
     "name": "stdout",
     "output_type": "stream",
     "text": [
      "      air_pressure_9am  air_temp_9am  avg_wind_direction_9am  \\\n",
      "0           918.060000     74.822000              271.100000   \n",
      "1           917.347688     71.403843              101.935179   \n",
      "2           923.040000     60.638000               51.000000   \n",
      "3           920.502751     70.138895              198.832133   \n",
      "4           921.160000     44.294000              277.800000   \n",
      "5           915.300000     78.404000              182.800000   \n",
      "6           915.598868     70.043304              177.875407   \n",
      "7           918.070000     51.710000              242.400000   \n",
      "8           920.080000     80.582000               40.700000   \n",
      "9           915.010000     47.498000              163.100000   \n",
      "10          919.650000     77.036000               70.600000   \n",
      "11          915.640000     45.716000              241.600000   \n",
      "12          917.390000     49.784000              204.100000   \n",
      "13          920.820000     62.438000              213.600000   \n",
      "14          911.000000     86.432000              202.900000   \n",
      "15          922.383131     70.865263               36.174175   \n",
      "16          917.890000           NaN              169.200000   \n",
      "17          916.915255     77.018961              234.539345   \n",
      "18          918.800000     67.082000              176.100000   \n",
      "19          922.040000     68.576000               58.300000   \n",
      "20          919.992262     62.964383               54.799094   \n",
      "21          917.230000     67.676000              177.800000   \n",
      "22          921.125626     68.818772               71.799092   \n",
      "23          920.350000     47.570000              192.100000   \n",
      "24          921.788229     71.659572              217.405520   \n",
      "25          918.030000     50.666000              128.900000   \n",
      "26          914.490000     49.892000              163.000000   \n",
      "27          914.900000     78.620000              203.300000   \n",
      "28          915.840000     40.118000              171.900000   \n",
      "29          916.310000     45.428000              183.100000   \n",
      "...                ...           ...                     ...   \n",
      "1065        915.600000     69.584000              185.500000   \n",
      "1066        919.564869     73.726732               68.704694   \n",
      "1067        917.690000     64.994000              178.300000   \n",
      "1068        920.330000     68.864000              122.400000   \n",
      "1069        918.260000     82.220000              186.600000   \n",
      "1070        911.600000     46.346000              110.200000   \n",
      "1071        919.200000     70.250000              156.700000   \n",
      "1072        923.100000     75.596000              178.300000   \n",
      "1073        917.920000     84.650000               30.000000   \n",
      "1074        913.870000     66.938000              171.900000   \n",
      "1075        922.858110     64.989361               63.483047   \n",
      "1076        925.550000     50.918000               32.600000   \n",
      "1077        920.130000     73.292000              193.600000   \n",
      "1078        924.017856     68.370307               56.304083   \n",
      "1079        917.200000     65.264000              137.600000   \n",
      "1080        916.260000     79.772000              185.700000   \n",
      "1081        920.856913     69.884338               47.335966   \n",
      "1082        916.130000     50.108000              211.400000   \n",
      "1083        916.320000     48.308000               46.900000   \n",
      "1084        917.130000     80.240000              183.300000   \n",
      "1085        914.840000     47.354000              190.900000   \n",
      "1086        921.260000     52.646000              261.900000   \n",
      "1087        914.000000     66.650000              173.800000   \n",
      "1088        912.900000     71.870000              129.200000   \n",
      "1089        915.000000     55.040000              191.800000   \n",
      "1090        918.900000     63.104000              192.900000   \n",
      "1091        918.710000     49.568000              241.600000   \n",
      "1092        916.600000     71.096000              189.300000   \n",
      "1093        912.600000     58.406000              172.700000   \n",
      "1094        921.530000     77.702000               97.100000   \n",
      "\n",
      "      avg_wind_speed_9am  max_wind_direction_9am  max_wind_speed_9am  \\\n",
      "0               2.080354              295.400000            2.863283   \n",
      "1               2.443009              140.471548            3.533324   \n",
      "2              17.067852               63.700000           22.100967   \n",
      "3               4.337363              211.203341            5.190045   \n",
      "4               1.856660              136.500000            2.863283   \n",
      "5               9.932014              189.000000           10.983375   \n",
      "6               3.745587              186.606696            4.589632   \n",
      "7               2.527742              271.600000            3.646212   \n",
      "8               4.518619               63.000000            5.883152   \n",
      "9               4.943637              195.900000            6.576604   \n",
      "10              3.825167               85.500000            4.764682   \n",
      "11              5.860783              265.800000            8.030615   \n",
      "12              1.275056              211.800000            2.013246   \n",
      "13              2.617220              165.700000            3.310671   \n",
      "14              1.207948              162.900000            1.677705   \n",
      "15              1.847278               58.428632            2.529142   \n",
      "16              2.192201              196.800000            2.930391   \n",
      "17              2.274725              229.474199            2.906513   \n",
      "18              4.876529              183.400000            5.569981   \n",
      "19              9.551734               81.900000           12.571603   \n",
      "20             12.680436               74.254223           15.452306   \n",
      "21              2.460634               93.200000            3.288302   \n",
      "22              2.576538               95.472334            3.487444   \n",
      "23              6.263432              205.700000            7.605596   \n",
      "24              1.946447              253.758003            2.719712   \n",
      "25              2.527742              117.400000            4.004123   \n",
      "26              4.854160              189.600000            6.733189   \n",
      "27              1.811921              240.000000            2.751436   \n",
      "28             10.535987              188.000000           12.929513   \n",
      "29              8.343786              194.600000           10.088599   \n",
      "...                  ...                     ...                 ...   \n",
      "1065            4.630466              198.200000            5.480503   \n",
      "1066            3.551777              102.571616            4.861315   \n",
      "1067            2.975130              193.900000            3.735690   \n",
      "1068            2.035615              182.000000            3.086977   \n",
      "1069            1.096101              221.500000            1.722444   \n",
      "1070            2.304048               96.100000            3.154085   \n",
      "1071            2.013246              172.300000            2.617220   \n",
      "1072            1.409272              205.200000            1.856660   \n",
      "1073            4.831790               40.100000            5.838413   \n",
      "1074            6.509495              182.300000            7.471380   \n",
      "1075           10.261187               73.170504           11.949206   \n",
      "1076            5.413395               57.500000            8.120092   \n",
      "1077            4.115970              211.300000            4.966007   \n",
      "1078           15.162800               76.585117           19.803578   \n",
      "1079            1.767183              176.700000            2.550112   \n",
      "1080            3.511996              201.500000            4.160708   \n",
      "1081           12.238670               66.729162           16.067860   \n",
      "1082            2.550112              231.800000            3.534365   \n",
      "1083            4.854160               61.700000            5.860783   \n",
      "1084            1.632966               38.500000            2.259309   \n",
      "1085            3.713320              204.400000            4.652835   \n",
      "1086            2.035615              260.500000            3.042238   \n",
      "1087            8.366156              181.000000            9.439887   \n",
      "1088            1.431642              160.000000            2.057985   \n",
      "1089            5.368656              220.900000            7.068730   \n",
      "1090            3.869906              207.300000            5.212070   \n",
      "1091            1.811921              227.400000            2.371156   \n",
      "1092            3.064608              200.800000            3.892276   \n",
      "1093            3.825167              189.100000            4.764682   \n",
      "1094            3.265932              125.900000            4.451511   \n",
      "\n",
      "      rain_accumulation_9am  rain_duration_9am  relative_humidity_9am  \\\n",
      "0                      0.00                0.0              42.420000   \n",
      "1                      0.00                0.0              24.328697   \n",
      "2                      0.00               20.0               8.900000   \n",
      "3                      0.00                0.0              12.189102   \n",
      "4                      8.90            14730.0              92.410000   \n",
      "5                      0.02              170.0              35.130000   \n",
      "6                      0.00                0.0              10.657422   \n",
      "7                      0.00                0.0              80.470000   \n",
      "8                      0.00                0.0              29.580000   \n",
      "9                      0.00                0.0              88.600000   \n",
      "10                     0.00                0.0              22.070000   \n",
      "11                     0.55             1770.0              90.560000   \n",
      "12                     0.00                0.0              73.150000   \n",
      "13                     0.00                0.0              43.640000   \n",
      "14                     0.00                0.0              15.190000   \n",
      "15                     0.00                0.0              12.110889   \n",
      "16                     0.00                0.0              48.990000   \n",
      "17                     0.00                0.0              21.031462   \n",
      "18                     0.00                0.0              18.900000   \n",
      "19                     0.00                0.0               7.540000   \n",
      "20                     0.00                0.0              18.809518   \n",
      "21                     0.00                0.0              40.640000   \n",
      "22                     0.00                0.0              11.742201   \n",
      "23                     0.00                0.0              54.550000   \n",
      "24                     0.00                0.0              11.194250   \n",
      "25                     0.00                0.0              76.880000   \n",
      "26                     0.00                0.0              92.100000   \n",
      "27                     0.00              220.0              47.890000   \n",
      "28                     0.00                0.0              86.430000   \n",
      "29                     0.00                0.0              86.150000   \n",
      "...                     ...                ...                    ...   \n",
      "1065                   0.00                0.0              28.970000   \n",
      "1066                    NaN                0.0              11.657314   \n",
      "1067                   0.00                0.0              54.880000   \n",
      "1068                   0.00                0.0              52.380000   \n",
      "1069                   0.00                0.0              32.460000   \n",
      "1070                   0.00                0.0              90.510000   \n",
      "1071                   0.00                0.0              42.060000   \n",
      "1072                   0.00                0.0              11.880000   \n",
      "1073                   0.00                0.0              16.220000   \n",
      "1074                   0.00                0.0              57.430000   \n",
      "1075                   0.00                0.0              14.525109   \n",
      "1076                   0.00               10.0              29.090000   \n",
      "1077                   0.00                0.0              33.520000   \n",
      "1078                   0.00                0.0              11.599240   \n",
      "1079                   0.00                0.0              58.370000   \n",
      "1080                   0.00                0.0              27.680000   \n",
      "1081                   0.00                0.0              11.956852   \n",
      "1082                   0.00                0.0              89.800000   \n",
      "1083                   0.00                0.0              91.030000   \n",
      "1084                   0.00                0.0              28.260000   \n",
      "1085                   0.00                0.0              92.300000   \n",
      "1086                   0.00                0.0              91.110000   \n",
      "1087                   0.00                0.0              30.920000   \n",
      "1088                   0.00                0.0              51.840000   \n",
      "1089                   0.00                0.0              73.550000   \n",
      "1090                   0.00                0.0              26.020000   \n",
      "1091                   0.00                0.0              90.350000   \n",
      "1092                   0.00                0.0              45.590000   \n",
      "1093                   0.00                0.0              64.840000   \n",
      "1094                   0.00                0.0              14.560000   \n",
      "\n",
      "      relative_humidity_3pm  \n",
      "0                 36.160000  \n",
      "1                 19.426597  \n",
      "2                 14.460000  \n",
      "3                 12.742547  \n",
      "4                 76.740000  \n",
      "5                 33.930000  \n",
      "6                 21.385657  \n",
      "7                 74.920000  \n",
      "8                 24.030000  \n",
      "9                 68.050000  \n",
      "10                32.130000  \n",
      "11                79.090000  \n",
      "12                58.430000  \n",
      "13                27.990000  \n",
      "14                24.370000  \n",
      "15                14.801706  \n",
      "16                51.190000  \n",
      "17                20.755683  \n",
      "18                45.870000  \n",
      "19                 7.740000  \n",
      "20                14.649909  \n",
      "21                41.340000  \n",
      "22                17.281161  \n",
      "23                66.000000  \n",
      "24                16.331716  \n",
      "25                47.030000  \n",
      "26                90.990000  \n",
      "27                43.900000  \n",
      "28                84.390000  \n",
      "29                90.580000  \n",
      "...                     ...  \n",
      "1065              39.370000  \n",
      "1066              17.331823  \n",
      "1067              52.070000  \n",
      "1068              62.620000  \n",
      "1069              56.930000  \n",
      "1070              62.490000  \n",
      "1071              41.850000  \n",
      "1072              19.810000  \n",
      "1073              27.450000  \n",
      "1074              53.380000  \n",
      "1075              15.511157  \n",
      "1076              23.720000  \n",
      "1077              38.120000  \n",
      "1078               9.373013  \n",
      "1079              65.590000  \n",
      "1080              20.400000  \n",
      "1081              12.696233  \n",
      "1082              53.860000  \n",
      "1083              62.400000  \n",
      "1084              34.690000  \n",
      "1085              88.160000  \n",
      "1086              81.890000  \n",
      "1087              47.340000  \n",
      "1088              55.490000  \n",
      "1089              69.670000  \n",
      "1090              38.180000  \n",
      "1091              73.340000  \n",
      "1092              52.310000  \n",
      "1093              58.280000  \n",
      "1094              15.100000  \n",
      "\n",
      "[1095 rows x 10 columns]\n"
     ]
    }
   ],
   "source": [
    "del data['number']\n",
    "print(data)"
   ]
  },
  {
   "cell_type": "markdown",
   "metadata": {},
   "source": [
    "Calculatoing the amount of data or say number of rows in the dataset before removing the rows containg null values"
   ]
  },
  {
   "cell_type": "code",
   "execution_count": 7,
   "metadata": {},
   "outputs": [
    {
     "name": "stdout",
     "output_type": "stream",
     "text": [
      "1095\n"
     ]
    }
   ],
   "source": [
    "before_rows = data.shape[0]\n",
    "print(before_rows)"
   ]
  },
  {
   "cell_type": "markdown",
   "metadata": {},
   "source": [
    "Removing the rows which contains the null values"
   ]
  },
  {
   "cell_type": "code",
   "execution_count": 8,
   "metadata": {},
   "outputs": [],
   "source": [
    "data = data.dropna()"
   ]
  },
  {
   "cell_type": "markdown",
   "metadata": {},
   "source": [
    "Calculatoing the amount of data or say number of rows in the dataset after removing the rows containg null values"
   ]
  },
  {
   "cell_type": "code",
   "execution_count": 9,
   "metadata": {},
   "outputs": [
    {
     "name": "stdout",
     "output_type": "stream",
     "text": [
      "1064\n"
     ]
    }
   ],
   "source": [
    "after_rows = data.shape[0]\n",
    "print(after_rows)"
   ]
  },
  {
   "cell_type": "markdown",
   "metadata": {},
   "source": [
    "Calculate how many rows are deleted which contains the Null Values"
   ]
  },
  {
   "cell_type": "code",
   "execution_count": 10,
   "metadata": {},
   "outputs": [
    {
     "data": {
      "text/plain": [
       "31"
      ]
     },
     "execution_count": 10,
     "metadata": {},
     "output_type": "execute_result"
    }
   ],
   "source": [
    "before_rows - after_rows"
   ]
  },
  {
   "cell_type": "markdown",
   "metadata": {},
   "source": [
    "Filter the values which contains more than 24.99 relative humidity at 3pm."
   ]
  },
  {
   "cell_type": "code",
   "execution_count": 11,
   "metadata": {},
   "outputs": [
    {
     "data": {
      "text/plain": [
       "0    1\n",
       "1    0\n",
       "2    0\n",
       "3    0\n",
       "4    1\n",
       "Name: high_humidity_label, dtype: int32"
      ]
     },
     "execution_count": 11,
     "metadata": {},
     "output_type": "execute_result"
    }
   ],
   "source": [
    "clean_data = data.copy()\n",
    "clean_data['high_humidity_label'] = (clean_data['relative_humidity_3pm'] >24.99) *1\n",
    "clean_data['high_humidity_label'].head()"
   ]
  },
  {
   "cell_type": "code",
   "execution_count": 12,
   "metadata": {},
   "outputs": [
    {
     "data": {
      "text/html": [
       "<div>\n",
       "<style scoped>\n",
       "    .dataframe tbody tr th:only-of-type {\n",
       "        vertical-align: middle;\n",
       "    }\n",
       "\n",
       "    .dataframe tbody tr th {\n",
       "        vertical-align: top;\n",
       "    }\n",
       "\n",
       "    .dataframe thead th {\n",
       "        text-align: right;\n",
       "    }\n",
       "</style>\n",
       "<table border=\"1\" class=\"dataframe\">\n",
       "  <thead>\n",
       "    <tr style=\"text-align: right;\">\n",
       "      <th></th>\n",
       "      <th>high_humidity_label</th>\n",
       "    </tr>\n",
       "  </thead>\n",
       "  <tbody>\n",
       "    <tr>\n",
       "      <th>0</th>\n",
       "      <td>1</td>\n",
       "    </tr>\n",
       "    <tr>\n",
       "      <th>1</th>\n",
       "      <td>0</td>\n",
       "    </tr>\n",
       "    <tr>\n",
       "      <th>2</th>\n",
       "      <td>0</td>\n",
       "    </tr>\n",
       "    <tr>\n",
       "      <th>3</th>\n",
       "      <td>0</td>\n",
       "    </tr>\n",
       "    <tr>\n",
       "      <th>4</th>\n",
       "      <td>1</td>\n",
       "    </tr>\n",
       "  </tbody>\n",
       "</table>\n",
       "</div>"
      ],
      "text/plain": [
       "   high_humidity_label\n",
       "0                    1\n",
       "1                    0\n",
       "2                    0\n",
       "3                    0\n",
       "4                    1"
      ]
     },
     "execution_count": 12,
     "metadata": {},
     "output_type": "execute_result"
    }
   ],
   "source": [
    "y = clean_data[['high_humidity_label']].copy()\n",
    "y.head()"
   ]
  },
  {
   "cell_type": "code",
   "execution_count": 13,
   "metadata": {},
   "outputs": [
    {
     "data": {
      "text/plain": [
       "0    36.160000\n",
       "1    19.426597\n",
       "2    14.460000\n",
       "3    12.742547\n",
       "4    76.740000\n",
       "Name: relative_humidity_3pm, dtype: float64"
      ]
     },
     "execution_count": 13,
     "metadata": {},
     "output_type": "execute_result"
    }
   ],
   "source": [
    "clean_data['relative_humidity_3pm'].head()"
   ]
  },
  {
   "cell_type": "code",
   "execution_count": 14,
   "metadata": {},
   "outputs": [
    {
     "data": {
      "text/html": [
       "<div>\n",
       "<style scoped>\n",
       "    .dataframe tbody tr th:only-of-type {\n",
       "        vertical-align: middle;\n",
       "    }\n",
       "\n",
       "    .dataframe tbody tr th {\n",
       "        vertical-align: top;\n",
       "    }\n",
       "\n",
       "    .dataframe thead th {\n",
       "        text-align: right;\n",
       "    }\n",
       "</style>\n",
       "<table border=\"1\" class=\"dataframe\">\n",
       "  <thead>\n",
       "    <tr style=\"text-align: right;\">\n",
       "      <th></th>\n",
       "      <th>high_humidity_label</th>\n",
       "    </tr>\n",
       "  </thead>\n",
       "  <tbody>\n",
       "    <tr>\n",
       "      <th>0</th>\n",
       "      <td>1</td>\n",
       "    </tr>\n",
       "    <tr>\n",
       "      <th>1</th>\n",
       "      <td>0</td>\n",
       "    </tr>\n",
       "    <tr>\n",
       "      <th>2</th>\n",
       "      <td>0</td>\n",
       "    </tr>\n",
       "    <tr>\n",
       "      <th>3</th>\n",
       "      <td>0</td>\n",
       "    </tr>\n",
       "    <tr>\n",
       "      <th>4</th>\n",
       "      <td>1</td>\n",
       "    </tr>\n",
       "  </tbody>\n",
       "</table>\n",
       "</div>"
      ],
      "text/plain": [
       "   high_humidity_label\n",
       "0                    1\n",
       "1                    0\n",
       "2                    0\n",
       "3                    0\n",
       "4                    1"
      ]
     },
     "execution_count": 14,
     "metadata": {},
     "output_type": "execute_result"
    }
   ],
   "source": [
    "y.head()"
   ]
  },
  {
   "cell_type": "markdown",
   "metadata": {},
   "source": [
    "<p style=\"font-family: Arial; font-size:1.75em;color:blue; font-style:bold\"><br>\n",
    "\n",
    "Use 9am Sensor Signals as Features to Predict Humidity at 3pm\n",
    "<br><br></p>\n"
   ]
  },
  {
   "cell_type": "markdown",
   "metadata": {},
   "source": [
    "Storing all the Morning features other than Humidity at 3 pm in the morning feature"
   ]
  },
  {
   "cell_type": "code",
   "execution_count": 15,
   "metadata": {},
   "outputs": [],
   "source": [
    "morning_features = ['air_pressure_9am', 'air_temp_9am', 'avg_wind_direction_9am',\n",
    "       'avg_wind_speed_9am', 'max_wind_direction_9am', 'max_wind_speed_9am',\n",
    "       'rain_accumulation_9am', 'rain_duration_9am', 'relative_humidity_9am']"
   ]
  },
  {
   "cell_type": "markdown",
   "metadata": {},
   "source": [
    "Copying the values from the clean_data dataset to new dataset x which only consist of the Morning Feature Data"
   ]
  },
  {
   "cell_type": "code",
   "execution_count": 16,
   "metadata": {},
   "outputs": [
    {
     "data": {
      "text/plain": [
       "Index(['air_pressure_9am', 'air_temp_9am', 'avg_wind_direction_9am',\n",
       "       'avg_wind_speed_9am', 'max_wind_direction_9am', 'max_wind_speed_9am',\n",
       "       'rain_accumulation_9am', 'rain_duration_9am', 'relative_humidity_9am'],\n",
       "      dtype='object')"
      ]
     },
     "execution_count": 16,
     "metadata": {},
     "output_type": "execute_result"
    }
   ],
   "source": [
    "x=clean_data[morning_features].copy()\n",
    "x.columns"
   ]
  },
  {
   "cell_type": "code",
   "execution_count": 17,
   "metadata": {},
   "outputs": [
    {
     "data": {
      "text/plain": [
       "Index(['high_humidity_label'], dtype='object')"
      ]
     },
     "execution_count": 17,
     "metadata": {},
     "output_type": "execute_result"
    }
   ],
   "source": [
    "y.columns"
   ]
  },
  {
   "cell_type": "markdown",
   "metadata": {},
   "source": [
    "<p style=\"font-family: Arial; font-size:1.75em;color:blue; font-style:bold\"><br>\n",
    "\n",
    "Perform Test and Train split\n",
    "\n",
    "<br><br></p>\n"
   ]
  },
  {
   "cell_type": "markdown",
   "metadata": {},
   "source": [
    "By using train_test_split we have split the data into traing dataset and testing datasets."
   ]
  },
  {
   "cell_type": "code",
   "execution_count": 18,
   "metadata": {},
   "outputs": [],
   "source": [
    "X_train,X_test,y_train,y_test = train_test_split(x,y,test_size=0.33,random_state=324)"
   ]
  },
  {
   "cell_type": "markdown",
   "metadata": {},
   "source": [
    "<p style=\"font-family: Arial; font-size:1.75em;color:blue; font-style:bold\"><br>\n",
    "\n",
    "Fit on Train Set\n",
    "<br><br></p>\n"
   ]
  },
  {
   "cell_type": "markdown",
   "metadata": {},
   "source": [
    "We have made a classifier for making the Decision Tree and to train the data using this classifier"
   ]
  },
  {
   "cell_type": "code",
   "execution_count": 19,
   "metadata": {},
   "outputs": [
    {
     "data": {
      "text/plain": [
       "DecisionTreeClassifier(class_weight=None, criterion='gini', max_depth=None,\n",
       "            max_features=None, max_leaf_nodes=10,\n",
       "            min_impurity_decrease=0.0, min_impurity_split=None,\n",
       "            min_samples_leaf=1, min_samples_split=2,\n",
       "            min_weight_fraction_leaf=0.0, presort=False, random_state=0,\n",
       "            splitter='best')"
      ]
     },
     "execution_count": 19,
     "metadata": {},
     "output_type": "execute_result"
    }
   ],
   "source": [
    "humidity_classifier = DecisionTreeClassifier(max_leaf_nodes=10,random_state=0)\n",
    "humidity_classifier.fit(X_train,y_train)"
   ]
  },
  {
   "cell_type": "code",
   "execution_count": 20,
   "metadata": {},
   "outputs": [
    {
     "data": {
      "text/plain": [
       "sklearn.tree.tree.DecisionTreeClassifier"
      ]
     },
     "execution_count": 20,
     "metadata": {},
     "output_type": "execute_result"
    }
   ],
   "source": [
    "type(humidity_classifier)"
   ]
  },
  {
   "cell_type": "markdown",
   "metadata": {},
   "source": [
    "<p style=\"font-family: Arial; font-size:1.75em;color:blue; font-style:bold\"><br>\n",
    "\n",
    "Predict on Test Set \n",
    "\n",
    "<br><br></p>\n"
   ]
  },
  {
   "cell_type": "markdown",
   "metadata": {},
   "source": [
    "Using humidity_classifier we have predicted the value for the X_test and stored it to y_predicted"
   ]
  },
  {
   "cell_type": "code",
   "execution_count": 21,
   "metadata": {},
   "outputs": [],
   "source": [
    "y_predicted = humidity_classifier.predict(X_test)"
   ]
  },
  {
   "cell_type": "code",
   "execution_count": 22,
   "metadata": {},
   "outputs": [
    {
     "data": {
      "text/plain": [
       "array([0, 0, 1, 1, 1, 1, 1, 0, 1, 1])"
      ]
     },
     "execution_count": 22,
     "metadata": {},
     "output_type": "execute_result"
    }
   ],
   "source": [
    "y_predicted[:10]"
   ]
  },
  {
   "cell_type": "code",
   "execution_count": 23,
   "metadata": {},
   "outputs": [
    {
     "data": {
      "text/plain": [
       "456     0\n",
       "845     0\n",
       "693     1\n",
       "259     1\n",
       "723     1\n",
       "224     1\n",
       "300     1\n",
       "442     0\n",
       "585     1\n",
       "1057    1\n",
       "Name: high_humidity_label, dtype: int32"
      ]
     },
     "execution_count": 23,
     "metadata": {},
     "output_type": "execute_result"
    }
   ],
   "source": [
    "y_test['high_humidity_label'][:10]"
   ]
  },
  {
   "cell_type": "markdown",
   "metadata": {},
   "source": [
    "<p style=\"font-family: Arial; font-size:1.75em;color:blue; font-style:bold\"><br>\n",
    "\n",
    "Measure Accuracy of the Classifier\n",
    "<br><br></p>\n"
   ]
  },
  {
   "cell_type": "markdown",
   "metadata": {},
   "source": [
    "Checking our accuracy of the model using accuracy_score function from sklearn metrics which in this case is with around 90% accuracy"
   ]
  },
  {
   "cell_type": "code",
   "execution_count": 24,
   "metadata": {},
   "outputs": [
    {
     "data": {
      "text/plain": [
       "90.05681818181817"
      ]
     },
     "execution_count": 24,
     "metadata": {},
     "output_type": "execute_result"
    }
   ],
   "source": [
    "accuracy_score(y_test,y_predicted)*100"
   ]
  },
  {
   "cell_type": "code",
   "execution_count": null,
   "metadata": {},
   "outputs": [],
   "source": []
  }
 ],
 "metadata": {
  "kernelspec": {
   "display_name": "Python 3",
   "language": "python",
   "name": "python3"
  },
  "language_info": {
   "codemirror_mode": {
    "name": "ipython",
    "version": 3
   },
   "file_extension": ".py",
   "mimetype": "text/x-python",
   "name": "python",
   "nbconvert_exporter": "python",
   "pygments_lexer": "ipython3",
   "version": "3.6.5"
  }
 },
 "nbformat": 4,
 "nbformat_minor": 2
}
